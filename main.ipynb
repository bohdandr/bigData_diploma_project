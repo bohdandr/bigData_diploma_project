{
 "cells": [
  {
   "cell_type": "code",
   "execution_count": 1,
   "id": "de85c08c-b23b-4c3e-a1d3-1e5ecad4ddf4",
   "metadata": {},
   "outputs": [],
   "source": [
    "from pyspark.sql import SparkSession\n",
    "from pyspark import SparkConf\n",
    "import os\n",
    "import sys\n",
    "os.environ['PYSPARK_PYTHON'] = sys.executable\n",
    "os.environ['PYSPARK_DRIVER_PYTHON'] = sys.executable"
   ]
  },
  {
   "cell_type": "code",
   "execution_count": 2,
   "id": "3f8ef851-ac85-4d5e-9e4a-e4fc69eb7dbe",
   "metadata": {},
   "outputs": [],
   "source": [
    "spark_session = (SparkSession.builder\n",
    "                 .master('local')\n",
    "                 .appName('my_task')\n",
    "                 .config(conf=SparkConf())\n",
    "                 .getOrCreate())"
   ]
  },
  {
   "cell_type": "code",
   "execution_count": 3,
   "id": "8455e10d-d2cf-4640-9234-13328327a8f0",
   "metadata": {},
   "outputs": [
    {
     "data": {
      "text/html": [
       "\n",
       "            <div>\n",
       "                <p><b>SparkSession - in-memory</b></p>\n",
       "                \n",
       "        <div>\n",
       "            <p><b>SparkContext</b></p>\n",
       "\n",
       "            <p><a href=\"http://pc-01:4040\">Spark UI</a></p>\n",
       "\n",
       "            <dl>\n",
       "              <dt>Version</dt>\n",
       "                <dd><code>v3.4.1</code></dd>\n",
       "              <dt>Master</dt>\n",
       "                <dd><code>local</code></dd>\n",
       "              <dt>AppName</dt>\n",
       "                <dd><code>my_task</code></dd>\n",
       "            </dl>\n",
       "        </div>\n",
       "        \n",
       "            </div>\n",
       "        "
      ],
      "text/plain": [
       "<pyspark.sql.session.SparkSession at 0x17a9fc2b070>"
      ]
     },
     "execution_count": 3,
     "metadata": {},
     "output_type": "execute_result"
    }
   ],
   "source": [
    "spark_session  "
   ]
  },
  {
   "cell_type": "code",
   "execution_count": 4,
   "id": "a40acca3-d633-4c0e-9f20-c357ce1153c1",
   "metadata": {},
   "outputs": [],
   "source": [
    "import pandas as pd\n",
    "from sklearn import set_config\n",
    "pd.options.display.float_format = '{:.2f}'.format\n",
    "set_config(display=\"diagram\")"
   ]
  },
  {
   "cell_type": "code",
   "execution_count": 14,
   "id": "4ffed2de-5476-457e-a724-1afeb00edd7f",
   "metadata": {},
   "outputs": [],
   "source": [
    "path = './data.tsv'"
   ]
  },
  {
   "cell_type": "code",
   "execution_count": 15,
   "id": "65e25a5d-cb7d-418e-9bd8-ead9d0807f1f",
   "metadata": {},
   "outputs": [],
   "source": [
    "df= pd.read_csv(path, sep='\\t')"
   ]
  },
  {
   "cell_type": "code",
   "execution_count": 16,
   "id": "5140875e-a489-42ac-ae4b-e705f30082ae",
   "metadata": {},
   "outputs": [
    {
     "data": {
      "text/html": [
       "<div>\n",
       "<style scoped>\n",
       "    .dataframe tbody tr th:only-of-type {\n",
       "        vertical-align: middle;\n",
       "    }\n",
       "\n",
       "    .dataframe tbody tr th {\n",
       "        vertical-align: top;\n",
       "    }\n",
       "\n",
       "    .dataframe thead th {\n",
       "        text-align: right;\n",
       "    }\n",
       "</style>\n",
       "<table border=\"1\" class=\"dataframe\">\n",
       "  <thead>\n",
       "    <tr style=\"text-align: right;\">\n",
       "      <th></th>\n",
       "      <th>nconst</th>\n",
       "      <th>primaryName</th>\n",
       "      <th>birthYear</th>\n",
       "      <th>deathYear</th>\n",
       "      <th>primaryProfession</th>\n",
       "      <th>knownForTitles</th>\n",
       "    </tr>\n",
       "  </thead>\n",
       "  <tbody>\n",
       "    <tr>\n",
       "      <th>0</th>\n",
       "      <td>nm0000001</td>\n",
       "      <td>Fred Astaire</td>\n",
       "      <td>1899</td>\n",
       "      <td>1987</td>\n",
       "      <td>soundtrack,actor,miscellaneous</td>\n",
       "      <td>tt0072308,tt0053137,tt0050419,tt0031983</td>\n",
       "    </tr>\n",
       "    <tr>\n",
       "      <th>1</th>\n",
       "      <td>nm0000002</td>\n",
       "      <td>Lauren Bacall</td>\n",
       "      <td>1924</td>\n",
       "      <td>2014</td>\n",
       "      <td>actress,soundtrack</td>\n",
       "      <td>tt0037382,tt0038355,tt0075213,tt0117057</td>\n",
       "    </tr>\n",
       "    <tr>\n",
       "      <th>2</th>\n",
       "      <td>nm0000003</td>\n",
       "      <td>Brigitte Bardot</td>\n",
       "      <td>1934</td>\n",
       "      <td>\\N</td>\n",
       "      <td>actress,soundtrack,music_department</td>\n",
       "      <td>tt0056404,tt0054452,tt0049189,tt0057345</td>\n",
       "    </tr>\n",
       "    <tr>\n",
       "      <th>3</th>\n",
       "      <td>nm0000004</td>\n",
       "      <td>John Belushi</td>\n",
       "      <td>1949</td>\n",
       "      <td>1982</td>\n",
       "      <td>actor,soundtrack,writer</td>\n",
       "      <td>tt0072562,tt0077975,tt0078723,tt0080455</td>\n",
       "    </tr>\n",
       "    <tr>\n",
       "      <th>4</th>\n",
       "      <td>nm0000005</td>\n",
       "      <td>Ingmar Bergman</td>\n",
       "      <td>1918</td>\n",
       "      <td>2007</td>\n",
       "      <td>writer,director,actor</td>\n",
       "      <td>tt0083922,tt0050976,tt0050986,tt0069467</td>\n",
       "    </tr>\n",
       "    <tr>\n",
       "      <th>...</th>\n",
       "      <td>...</td>\n",
       "      <td>...</td>\n",
       "      <td>...</td>\n",
       "      <td>...</td>\n",
       "      <td>...</td>\n",
       "      <td>...</td>\n",
       "    </tr>\n",
       "    <tr>\n",
       "      <th>12672919</th>\n",
       "      <td>nm9993714</td>\n",
       "      <td>Romeo del Rosario</td>\n",
       "      <td>\\N</td>\n",
       "      <td>\\N</td>\n",
       "      <td>animation_department,art_department</td>\n",
       "      <td>tt11657662,tt2455546,tt14069590</td>\n",
       "    </tr>\n",
       "    <tr>\n",
       "      <th>12672920</th>\n",
       "      <td>nm9993716</td>\n",
       "      <td>Essias Loberg</td>\n",
       "      <td>\\N</td>\n",
       "      <td>\\N</td>\n",
       "      <td>NaN</td>\n",
       "      <td>\\N</td>\n",
       "    </tr>\n",
       "    <tr>\n",
       "      <th>12672921</th>\n",
       "      <td>nm9993717</td>\n",
       "      <td>Harikrishnan Rajan</td>\n",
       "      <td>\\N</td>\n",
       "      <td>\\N</td>\n",
       "      <td>cinematographer</td>\n",
       "      <td>tt8736744</td>\n",
       "    </tr>\n",
       "    <tr>\n",
       "      <th>12672922</th>\n",
       "      <td>nm9993718</td>\n",
       "      <td>Aayush Nair</td>\n",
       "      <td>\\N</td>\n",
       "      <td>\\N</td>\n",
       "      <td>cinematographer</td>\n",
       "      <td>tt8736744</td>\n",
       "    </tr>\n",
       "    <tr>\n",
       "      <th>12672923</th>\n",
       "      <td>nm9993719</td>\n",
       "      <td>Andre Hill</td>\n",
       "      <td>\\N</td>\n",
       "      <td>\\N</td>\n",
       "      <td>NaN</td>\n",
       "      <td>\\N</td>\n",
       "    </tr>\n",
       "  </tbody>\n",
       "</table>\n",
       "<p>12672924 rows × 6 columns</p>\n",
       "</div>"
      ],
      "text/plain": [
       "             nconst         primaryName birthYear deathYear  \\\n",
       "0         nm0000001        Fred Astaire      1899      1987   \n",
       "1         nm0000002       Lauren Bacall      1924      2014   \n",
       "2         nm0000003     Brigitte Bardot      1934        \\N   \n",
       "3         nm0000004        John Belushi      1949      1982   \n",
       "4         nm0000005      Ingmar Bergman      1918      2007   \n",
       "...             ...                 ...       ...       ...   \n",
       "12672919  nm9993714   Romeo del Rosario        \\N        \\N   \n",
       "12672920  nm9993716       Essias Loberg        \\N        \\N   \n",
       "12672921  nm9993717  Harikrishnan Rajan        \\N        \\N   \n",
       "12672922  nm9993718         Aayush Nair        \\N        \\N   \n",
       "12672923  nm9993719          Andre Hill        \\N        \\N   \n",
       "\n",
       "                            primaryProfession  \\\n",
       "0              soundtrack,actor,miscellaneous   \n",
       "1                          actress,soundtrack   \n",
       "2         actress,soundtrack,music_department   \n",
       "3                     actor,soundtrack,writer   \n",
       "4                       writer,director,actor   \n",
       "...                                       ...   \n",
       "12672919  animation_department,art_department   \n",
       "12672920                                  NaN   \n",
       "12672921                      cinematographer   \n",
       "12672922                      cinematographer   \n",
       "12672923                                  NaN   \n",
       "\n",
       "                                   knownForTitles  \n",
       "0         tt0072308,tt0053137,tt0050419,tt0031983  \n",
       "1         tt0037382,tt0038355,tt0075213,tt0117057  \n",
       "2         tt0056404,tt0054452,tt0049189,tt0057345  \n",
       "3         tt0072562,tt0077975,tt0078723,tt0080455  \n",
       "4         tt0083922,tt0050976,tt0050986,tt0069467  \n",
       "...                                           ...  \n",
       "12672919          tt11657662,tt2455546,tt14069590  \n",
       "12672920                                       \\N  \n",
       "12672921                                tt8736744  \n",
       "12672922                                tt8736744  \n",
       "12672923                                       \\N  \n",
       "\n",
       "[12672924 rows x 6 columns]"
      ]
     },
     "execution_count": 16,
     "metadata": {},
     "output_type": "execute_result"
    }
   ],
   "source": [
    "df"
   ]
  },
  {
   "cell_type": "code",
   "execution_count": 8,
   "id": "d1814f8b-6533-4d39-8f0b-2f1f1237815c",
   "metadata": {},
   "outputs": [],
   "source": [
    "data=[1,2,3,4,5]\n",
    "rdd=spark_session.sparkContext.parallelize(data)"
   ]
  },
  {
   "cell_type": "code",
   "execution_count": 9,
   "id": "22937b20-4d38-486f-8644-2da1d5dfb380",
   "metadata": {},
   "outputs": [
    {
     "data": {
      "text/plain": [
       "[1, 2, 3, 4, 5]"
      ]
     },
     "execution_count": 9,
     "metadata": {},
     "output_type": "execute_result"
    }
   ],
   "source": [
    "rdd.collect()"
   ]
  },
  {
   "cell_type": "code",
   "execution_count": 10,
   "id": "31002ba2-d41a-4593-9cd6-5ea7dc892a59",
   "metadata": {},
   "outputs": [],
   "source": [
    "import pyspark.sql.types as t\n",
    "\n",
    "data=[(\"bohdan\",5),(\"ostin\",36)]\n",
    "schema=t.StructType([\n",
    "    t.StructField(\"name\", t.StringType(), True),\n",
    "    t.StructField(\"age\", t.StringType(), True)])\n",
    "df=spark_session.createDataFrame(data,schema)"
   ]
  },
  {
   "cell_type": "code",
   "execution_count": 11,
   "id": "bbc0b9f2-830b-4615-a93a-060f0ea3db50",
   "metadata": {},
   "outputs": [
    {
     "name": "stdout",
     "output_type": "stream",
     "text": [
      "+------+---+\n",
      "|  name|age|\n",
      "+------+---+\n",
      "|bohdan|  5|\n",
      "| ostin| 36|\n",
      "+------+---+\n",
      "\n"
     ]
    }
   ],
   "source": [
    "df.show()"
   ]
  },
  {
   "cell_type": "code",
   "execution_count": null,
   "id": "29f93f6e-d3a7-43a6-a59f-c387fc35f9b6",
   "metadata": {},
   "outputs": [],
   "source": [
    "import sys\n",
    "print(sys.version)"
   ]
  },
  {
   "cell_type": "code",
   "execution_count": null,
   "id": "f55994b2-9682-4c16-bf77-8ba0b37a51d3",
   "metadata": {},
   "outputs": [],
   "source": [
    "import pyspark\n",
    "print(pyspark.__version__)"
   ]
  },
  {
   "cell_type": "code",
   "execution_count": 8,
   "id": "919f0b99-bb7b-405b-881a-3d04ed244bbf",
   "metadata": {},
   "outputs": [
    {
     "ename": "NameError",
     "evalue": "name 'python' is not defined",
     "output_type": "error",
     "traceback": [
      "\u001b[1;31m---------------------------------------------------------------------------\u001b[0m",
      "\u001b[1;31mNameError\u001b[0m                                 Traceback (most recent call last)",
      "Cell \u001b[1;32mIn[8], line 1\u001b[0m\n\u001b[1;32m----> 1\u001b[0m \u001b[43mpython\u001b[49m \u001b[38;5;241m-\u001b[39m\u001b[38;5;241m-\u001b[39mversion\n",
      "\u001b[1;31mNameError\u001b[0m: name 'python' is not defined"
     ]
    }
   ],
   "source": []
  },
  {
   "cell_type": "code",
   "execution_count": null,
   "id": "4d6639b7-a2b3-41e8-869b-a063ee67bf5b",
   "metadata": {},
   "outputs": [],
   "source": []
  },
  {
   "cell_type": "code",
   "execution_count": null,
   "id": "5eaf53d8-c168-4f5a-91a4-0309e0beb02b",
   "metadata": {},
   "outputs": [],
   "source": []
  }
 ],
 "metadata": {
  "kernelspec": {
   "display_name": "Python 3 (ipykernel)",
   "language": "python",
   "name": "python3"
  },
  "language_info": {
   "codemirror_mode": {
    "name": "ipython",
    "version": 3
   },
   "file_extension": ".py",
   "mimetype": "text/x-python",
   "name": "python",
   "nbconvert_exporter": "python",
   "pygments_lexer": "ipython3",
   "version": "3.10.12"
  }
 },
 "nbformat": 4,
 "nbformat_minor": 5
}
